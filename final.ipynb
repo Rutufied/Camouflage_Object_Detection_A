{
 "cells": [
  {
   "cell_type": "code",
   "execution_count": 11,
   "id": "18fae556-7efc-4218-9fd2-246a4d6057a3",
   "metadata": {},
   "outputs": [],
   "source": [
    "from ultralytics import YOLO\n",
    "import cv2\n",
    "import cvzone\n",
    "import math"
   ]
  },
  {
   "cell_type": "code",
   "execution_count": 12,
   "id": "4bdb5de1-398a-4225-a000-371edfbb0e11",
   "metadata": {},
   "outputs": [],
   "source": [
    "model=YOLO(\"best(1).pt\")\n",
    "coco_classes =['Human', 'animal-human-detection']"
   ]
  },
  {
   "cell_type": "code",
   "execution_count": 13,
   "id": "f81a44a4-3ee2-4081-8ee5-3e7e606739e4",
   "metadata": {},
   "outputs": [
    {
     "name": "stdout",
     "output_type": "stream",
     "text": [
      "D:\\Conda_Pro_\\Objectdetection\\Aadditya\n"
     ]
    }
   ],
   "source": [
    "import os\n",
    "\n",
    "# Get the current working directory\n",
    "current_directory = os.getcwd()\n",
    "print(current_directory)\n"
   ]
  },
  {
   "cell_type": "code",
   "execution_count": 14,
   "id": "ed3f84d2-181c-41b7-847f-88698e0fadff",
   "metadata": {},
   "outputs": [
    {
     "name": "stdout",
     "output_type": "stream",
     "text": [
      "\n",
      "image 1/1 D:\\Conda_Pro_\\Objectdetection\\Aadditya\\app.jpg: 640x640 1 Human, 79.8ms\n",
      "Speed: 3.0ms preprocess, 79.8ms inference, 3.0ms postprocess per image at shape (1, 3, 640, 640)\n"
     ]
    }
   ],
   "source": [
    "# results=model(\"app.jpg\",show=True)\n",
    "results=model(\"app.jpg\")\n",
    "# cv2.waitKey(0)"
   ]
  },
  {
   "cell_type": "code",
   "execution_count": 21,
   "id": "b4580364-87cf-4e6f-81f0-4b51a14b89b2",
   "metadata": {},
   "outputs": [
    {
     "data": {
      "text/plain": [
       "False"
      ]
     },
     "execution_count": 21,
     "metadata": {},
     "output_type": "execute_result"
    }
   ],
   "source": [
    "for r in results:\n",
    "    "
   ]
  },
  {
   "cell_type": "code",
   "execution_count": 10,
   "id": "cb9bf79a-33a8-4776-b3f5-ff36055af51f",
   "metadata": {},
   "outputs": [
    {
     "data": {
      "text/plain": [
       "list"
      ]
     },
     "execution_count": 10,
     "metadata": {},
     "output_type": "execute_result"
    }
   ],
   "source": [
    "type(results)"
   ]
  },
  {
   "cell_type": "code",
   "execution_count": 22,
   "id": "55241c0e-cb19-46c1-9610-5e9d86d2c241",
   "metadata": {},
   "outputs": [
    {
     "data": {
      "text/plain": [
       "ultralytics.engine.results.Results object with attributes:\n",
       "\n",
       "boxes: ultralytics.engine.results.Boxes object\n",
       "keypoints: None\n",
       "masks: None\n",
       "names: {0: 'Human', 1: 'animal-human-detection'}\n",
       "obb: None\n",
       "orig_img: array([[[121, 111,  93],\n",
       "        [133, 123, 105],\n",
       "        [148, 138, 120],\n",
       "        ...,\n",
       "        [240, 240, 240],\n",
       "        [150, 150, 150],\n",
       "        [  3,   3,   3]],\n",
       "\n",
       "       [[108,  98,  80],\n",
       "        [124, 114,  96],\n",
       "        [147, 137, 119],\n",
       "        ...,\n",
       "        [241, 241, 241],\n",
       "        [150, 150, 150],\n",
       "        [  2,   2,   2]],\n",
       "\n",
       "       [[ 97,  90,  71],\n",
       "        [120, 113,  94],\n",
       "        [153, 146, 127],\n",
       "        ...,\n",
       "        [244, 244, 244],\n",
       "        [151, 151, 151],\n",
       "        [  1,   1,   1]],\n",
       "\n",
       "       ...,\n",
       "\n",
       "       [[143, 146, 174],\n",
       "        [151, 155, 180],\n",
       "        [157, 160, 188],\n",
       "        ...,\n",
       "        [118, 116, 116],\n",
       "        [ 54,  50,  55],\n",
       "        [  2,   0,   4]],\n",
       "\n",
       "       [[ 97,  99, 129],\n",
       "        [100, 103, 131],\n",
       "        [102, 104, 134],\n",
       "        ...,\n",
       "        [107, 102, 103],\n",
       "        [ 61,  55,  60],\n",
       "        [ 17,  11,  16]],\n",
       "\n",
       "       [[ 26,  28,  58],\n",
       "        [ 26,  28,  58],\n",
       "        [ 26,  28,  58],\n",
       "        ...,\n",
       "        [ 42,  37,  38],\n",
       "        [ 26,  21,  23],\n",
       "        [  4,   0,   3]]], dtype=uint8)\n",
       "orig_shape: (640, 640)\n",
       "path: 'D:\\\\Conda_Pro_\\\\Objectdetection\\\\Aadditya\\\\app.jpg'\n",
       "probs: None\n",
       "save_dir: 'runs\\\\detect\\\\predict'\n",
       "speed: {'preprocess': 3.0057430267333984, 'inference': 79.7889232635498, 'postprocess': 2.9664039611816406}"
      ]
     },
     "execution_count": 22,
     "metadata": {},
     "output_type": "execute_result"
    }
   ],
   "source": [
    "results[0]"
   ]
  },
  {
   "cell_type": "code",
   "execution_count": null,
   "id": "c54859fd-fc4a-4192-8b52-ce90cd2e5cdc",
   "metadata": {},
   "outputs": [],
   "source": []
  }
 ],
 "metadata": {
  "kernelspec": {
   "display_name": "Python 3 (ipykernel)",
   "language": "python",
   "name": "python3"
  },
  "language_info": {
   "codemirror_mode": {
    "name": "ipython",
    "version": 3
   },
   "file_extension": ".py",
   "mimetype": "text/x-python",
   "name": "python",
   "nbconvert_exporter": "python",
   "pygments_lexer": "ipython3",
   "version": "3.10.14"
  }
 },
 "nbformat": 4,
 "nbformat_minor": 5
}
